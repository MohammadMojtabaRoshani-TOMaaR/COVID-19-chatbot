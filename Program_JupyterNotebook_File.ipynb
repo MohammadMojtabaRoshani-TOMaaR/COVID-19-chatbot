{
 "cells": [
  {
   "cell_type": "code",
   "execution_count": 1,
   "id": "65fde0c4",
   "metadata": {
    "id": "65fde0c4"
   },
   "outputs": [],
   "source": [
    "import pickle\n",
    "import numpy as np\n",
    "import pandas as pd"
   ]
  },
  {
   "cell_type": "markdown",
   "id": "8fba8f44",
   "metadata": {
    "id": "8fba8f44"
   },
   "source": [
    "Make data ready Like paper dataset"
   ]
  },
  {
   "cell_type": "code",
   "execution_count": 2,
   "id": "709b4bd3",
   "metadata": {
    "colab": {
     "base_uri": "https://localhost:8080/"
    },
    "id": "709b4bd3",
    "outputId": "b0f9ebd7-b405-4c06-9958-d7ba8a6cf9f8"
   },
   "outputs": [
    {
     "name": "stdout",
     "output_type": "stream",
     "text": [
      "(['I', 'have', 'fever', 'and', 'aches', '.'], ['Can', 'the', 'fever', 'and', 'body', 'aches', 'I', 'have', 'cause', 'corona', '?'], 'yes')\n"
     ]
    }
   ],
   "source": [
    "excel = pd.read_excel (r'mmr_covid_dataset.xlsx')\n",
    "data = []\n",
    "\n",
    "for story,question,answer in excel.values.tolist():\n",
    "    data.append((story.split(), question.split(), answer))\n",
    "\n",
    "print(data[0])"
   ]
  },
  {
   "cell_type": "markdown",
   "id": "23cee16e",
   "metadata": {
    "id": "23cee16e"
   },
   "source": [
    "Make test and train data"
   ]
  },
  {
   "cell_type": "code",
   "execution_count": 3,
   "id": "bae642f0",
   "metadata": {
    "id": "bae642f0"
   },
   "outputs": [],
   "source": [
    "train_data = data[:int(len(data)*0.7)]\n",
    "test_data = data[-int(len(data)*0.3):]\n",
    "input_train = []\n",
    "questions_train = []\n",
    "answers_train = []\n",
    "input_test = []\n",
    "questions_test = []\n",
    "answers_test = []"
   ]
  },
  {
   "cell_type": "code",
   "execution_count": 4,
   "id": "1d795014",
   "metadata": {
    "colab": {
     "base_uri": "https://localhost:8080/"
    },
    "id": "1d795014",
    "outputId": "20fdd7b1-33ce-48f0-b22b-d79f8201abaa"
   },
   "outputs": [
    {
     "name": "stdout",
     "output_type": "stream",
     "text": [
      "69\n"
     ]
    }
   ],
   "source": [
    "print(len(train_data))"
   ]
  },
  {
   "cell_type": "code",
   "execution_count": 5,
   "id": "7ad21946",
   "metadata": {
    "colab": {
     "base_uri": "https://localhost:8080/"
    },
    "id": "7ad21946",
    "outputId": "abf5792e-9a65-413c-eb09-23d50f0dc415"
   },
   "outputs": [
    {
     "data": {
      "text/plain": [
       "29"
      ]
     },
     "execution_count": 5,
     "metadata": {},
     "output_type": "execute_result"
    }
   ],
   "source": [
    "len(test_data)"
   ]
  },
  {
   "cell_type": "code",
   "execution_count": 6,
   "id": "8265f159",
   "metadata": {
    "colab": {
     "base_uri": "https://localhost:8080/"
    },
    "id": "8265f159",
    "outputId": "22651654-2525-4f69-9629-98a7bc1202c9"
   },
   "outputs": [
    {
     "data": {
      "text/plain": [
       "(['I', 'have', 'fever', 'and', 'aches', '.'],\n",
       " ['Can',\n",
       "  'the',\n",
       "  'fever',\n",
       "  'and',\n",
       "  'body',\n",
       "  'aches',\n",
       "  'I',\n",
       "  'have',\n",
       "  'cause',\n",
       "  'corona',\n",
       "  '?'],\n",
       " 'yes')"
      ]
     },
     "execution_count": 6,
     "metadata": {},
     "output_type": "execute_result"
    }
   ],
   "source": [
    "train_data[0]"
   ]
  },
  {
   "cell_type": "markdown",
   "id": "196338e4",
   "metadata": {
    "id": "196338e4"
   },
   "source": [
    "Make vocabulary (train+test)"
   ]
  },
  {
   "cell_type": "code",
   "execution_count": 7,
   "id": "da8a2cd8",
   "metadata": {
    "id": "da8a2cd8"
   },
   "outputs": [],
   "source": [
    "all_data = train_data + test_data; len(all_data);"
   ]
  },
  {
   "cell_type": "code",
   "execution_count": 8,
   "id": "eff8ae40",
   "metadata": {
    "colab": {
     "base_uri": "https://localhost:8080/"
    },
    "id": "eff8ae40",
    "outputId": "febc256d-fa75-4983-c978-16a33406b316"
   },
   "outputs": [
    {
     "data": {
      "text/plain": [
       "{'.',\n",
       " '?',\n",
       " 'Can',\n",
       " 'Corona',\n",
       " 'Could',\n",
       " 'Do',\n",
       " 'Does',\n",
       " 'I',\n",
       " 'a',\n",
       " 'ache',\n",
       " 'aches',\n",
       " 'all',\n",
       " 'alot',\n",
       " 'always',\n",
       " 'am',\n",
       " 'and',\n",
       " 'any',\n",
       " 'anyone',\n",
       " 'anything',\n",
       " 'are',\n",
       " 'because',\n",
       " 'bed',\n",
       " 'bed.',\n",
       " 'body',\n",
       " 'breath',\n",
       " 'breathe',\n",
       " 'breathe,',\n",
       " 'breathing',\n",
       " 'but',\n",
       " \"can't\",\n",
       " 'cannot',\n",
       " 'caugh',\n",
       " 'cause',\n",
       " 'chills',\n",
       " 'chills.',\n",
       " 'cold',\n",
       " 'corona',\n",
       " 'coronavirus',\n",
       " 'cough',\n",
       " 'coughing',\n",
       " 'difficulty',\n",
       " 'dizzy',\n",
       " 'dizzy.',\n",
       " 'do',\n",
       " \"don't\",\n",
       " 'dry',\n",
       " 'except',\n",
       " 'experiencing',\n",
       " 'feel',\n",
       " 'feeling',\n",
       " 'fever',\n",
       " 'feverish',\n",
       " 'finding',\n",
       " 'fine,',\n",
       " 'food',\n",
       " 'from',\n",
       " 'get',\n",
       " 'getting',\n",
       " 'hard',\n",
       " 'has',\n",
       " 'have',\n",
       " 'having',\n",
       " 'high',\n",
       " 'hurts',\n",
       " 'iam',\n",
       " 'if',\n",
       " 'in',\n",
       " 'infected',\n",
       " 'is',\n",
       " 'it',\n",
       " 'linked',\n",
       " 'lost',\n",
       " 'lot',\n",
       " 'me',\n",
       " 'mean',\n",
       " 'my',\n",
       " 'no',\n",
       " 'not',\n",
       " 'of',\n",
       " 'one',\n",
       " 'out',\n",
       " 'over',\n",
       " 'phlegm.',\n",
       " 'problem',\n",
       " 'sense',\n",
       " 'shortness',\n",
       " 'sick',\n",
       " 'sick,',\n",
       " 'signs',\n",
       " 'slight',\n",
       " 'smell',\n",
       " 'sneesing',\n",
       " 'sneez',\n",
       " 'sneezing',\n",
       " 'sneezing,',\n",
       " 'some',\n",
       " 'stop',\n",
       " 'suffering',\n",
       " 'sweating',\n",
       " 'symptom',\n",
       " 'symptoms',\n",
       " 'taste',\n",
       " 'tell',\n",
       " 'temperature',\n",
       " 'temperatures',\n",
       " 'that',\n",
       " 'the',\n",
       " 'they',\n",
       " 'things',\n",
       " 'think',\n",
       " 'tired',\n",
       " 'to',\n",
       " 'toothache',\n",
       " 'trouble',\n",
       " 'up',\n",
       " 'virus',\n",
       " 'well',\n",
       " 'who',\n",
       " 'without',\n",
       " 'wondering',\n",
       " 'yes',\n",
       " 'you'}"
      ]
     },
     "execution_count": 8,
     "metadata": {},
     "output_type": "execute_result"
    }
   ],
   "source": [
    "vocab = set();\n",
    "\n",
    "for story,question,answer in all_data:\n",
    "    vocab = vocab.union(set(story));\n",
    "    vocab = vocab.union(set(question));\n",
    "    \n",
    "vocab.add(\"no\");\n",
    "vocab.add(\"yes\");\n",
    "\n",
    "vocab_len = len(vocab) + 1\n",
    "\n",
    "vocab"
   ]
  },
  {
   "cell_type": "markdown",
   "id": "0a38721c",
   "metadata": {
    "id": "0a38721c"
   },
   "source": [
    "Longest story & question"
   ]
  },
  {
   "cell_type": "code",
   "execution_count": 9,
   "id": "21a9dc7b",
   "metadata": {
    "id": "21a9dc7b"
   },
   "outputs": [],
   "source": [
    "all_story_len = [len(data[0]) for data in all_data]\n",
    "max_story_len = max(all_story_len)\n",
    "all_question_len = [len(data[1]) for data in all_data]\n",
    "max_question_len = max(all_question_len)"
   ]
  },
  {
   "cell_type": "code",
   "execution_count": 10,
   "id": "a56f4a2d",
   "metadata": {
    "id": "a56f4a2d"
   },
   "outputs": [],
   "source": [
    "from keras.preprocessing.sequence import pad_sequences\n",
    "from keras.preprocessing.text import Tokenizer"
   ]
  },
  {
   "cell_type": "code",
   "execution_count": 11,
   "id": "460f2bd7",
   "metadata": {
    "id": "460f2bd7"
   },
   "outputs": [],
   "source": [
    "# map every word to index (lower cased)\n",
    "tokenizer = Tokenizer(filters=[])\n",
    "tokenizer.fit_on_texts(vocab)\n",
    "vocab_sze = len(tokenizer.word_index) + 1"
   ]
  },
  {
   "cell_type": "code",
   "execution_count": 12,
   "id": "88aec05a",
   "metadata": {
    "id": "88aec05a"
   },
   "outputs": [],
   "source": [
    "train_story_text = []\n",
    "train_question_text = []\n",
    "train_answers = []"
   ]
  },
  {
   "cell_type": "code",
   "execution_count": 13,
   "id": "ff8eece2",
   "metadata": {
    "colab": {
     "base_uri": "https://localhost:8080/"
    },
    "id": "ff8eece2",
    "outputId": "cbe2a802-540c-4711-968e-3f51526922ef"
   },
   "outputs": [
    {
     "name": "stdout",
     "output_type": "stream",
     "text": [
      "69\n",
      "[['I', 'have', 'fever', 'and', 'aches', '.'], ['I', 'have', 'aches', '.'], ['I', 'have', 'fever', '.'], ['iam', 'coughing', '.'], ['iam', 'sneezing'], ['iam', 'coughing', 'and', 'sneezing', '.', 'I', 'have', 'fever', 'and', 'aches', '.'], ['iam', 'coughing', '.', 'I', 'have', 'fever', '.'], ['iam', 'coughing', '.', 'I', 'have', 'aches', '.'], ['iam', 'sneezing', '.', 'I', 'have', 'aches', '.'], ['iam', 'sneezing', '.', 'I', 'have', 'fever', '.'], ['I', 'have', 'coughing', 'and', 'sneezing', '.'], ['I', 'have', 'difficulty', 'to', 'breathe', '.', 'I', 'have', 'fever', 'and', 'aches', '.', 'I', 'have', 'coughing', 'and', 'sneezing', '.'], ['I', 'have', 'difficulty', 'to', 'breathe', '.', 'I', 'have', 'fever', 'and', 'aches', '.'], ['I', 'have', 'difficulty', 'to', 'breathe', '.', 'I', 'have', 'coughing', 'and', 'sneezing', '.'], ['I', 'have', 'difficulty', 'to', 'breathe', '.'], ['I', 'have', 'dry', 'cough', '.', 'I', 'have', 'difficulty', 'to', 'breathe', '.'], ['I', 'have', 'dry', 'cough', '.', 'I', 'have', 'sneezing', '.'], ['I', 'have', 'dry', 'cough', '.', 'I', 'have', 'difficulty', 'to', 'breathe', '.', 'I', 'have', 'fever', 'and', 'aches', '.', 'I', 'have', 'coughing', 'and', 'sneezing', '.'], ['I', 'have', 'dry', 'cough', '.', 'I', 'have', 'fever', 'and', 'aches', '.'], ['iam', 'coughing', 'and', 'sneezing', '.', 'I', 'have', 'fever', 'and', 'aches', '.'], ['iam', 'coughing', '.', 'I', 'have', 'fever', '.'], ['iam', 'coughing', '.', 'I', 'have', 'aches', '.'], ['iam', 'sneezing', '.', 'I', 'have', 'aches', '.'], ['iam', 'sneezing', '.', 'I', 'have', 'fever', '.'], ['I', 'have', 'coughing', 'and', 'sneezing', '.'], ['I', 'have', 'dry', 'cough', '.', 'I', 'have', 'difficulty', 'to', 'breathe', '.'], ['I', 'have', 'dry', 'cough', '.', 'I', 'have', 'sneezing', '.'], ['I', 'have', 'dry', 'cough', '.', 'I', 'have', 'difficulty', 'to', 'breathe', '.', 'I', 'have', 'fever', 'and', 'aches', '.', 'I', 'have', 'coughing', 'and', 'sneezing', '.'], ['I', 'have', 'dry', 'cough', '.', 'I', 'have', 'fever', 'and', 'aches', '.'], ['iam', 'coughing', '.'], ['iam', 'sneezing'], ['iam', 'coughing', '.', 'I', 'have', 'fever', '.'], ['iam', 'coughing', '.', 'I', 'have', 'aches', '.'], ['iam', 'sneezing', '.', 'I', 'have', 'aches', '.'], ['iam', 'sneezing', '.', 'I', 'have', 'fever', '.'], ['I', 'have', 'coughing', 'and', 'sneezing', '.'], ['I', 'have', 'breathe', 'problem', '.', 'I', 'have', 'fever', '.'], ['I', 'have', 'breathe', 'problem', '.', 'I', 'have', 'cough', '.'], ['I', 'have', 'breathe', 'problem', '.', 'I', 'have', 'sneez', '.'], ['I', 'have', 'breathe', 'problem', '.', 'I', 'have', 'aches', '.'], ['I', 'have', 'difficulty', 'to', 'breathe', '.', 'I', 'have', 'fever', 'and', 'aches', '.'], ['I', 'have', 'difficulty', 'to', 'breathe', '.', 'I', 'have', 'coughing', 'and', 'sneezing', '.'], ['I', 'have', 'difficulty', 'to', 'breathe', '.'], ['I', 'have', 'dry', 'cough', '.', 'I', 'have', 'difficulty', 'to', 'breathe', '.'], ['I', 'have', 'dry', 'cough', '.', 'I', 'have', 'sneezing', '.'], ['I', 'have', 'dry', 'cough', '.', 'I', 'have', 'difficulty', 'to', 'breathe', '.', 'I', 'have', 'fever', 'and', 'aches', '.', 'I', 'have', 'coughing', 'and', 'sneezing', '.'], ['I', 'have', 'dry', 'cough', '.', 'I', 'have', 'fever', 'and', 'aches', '.'], ['I', 'have', 'fever', '.'], ['I', 'have', 'no', 'symptoms', '.'], ['I', 'have', 'difficulty', 'to', 'breathe', '.'], ['I', 'ache', 'all', 'over', '.'], ['I', 'am', 'always', 'tired', '.'], ['I', 'am', 'cold', 'sweating', '.'], ['I', 'am', 'coughing', 'a', 'lot', '.'], ['I', 'am', 'experiencing', 'fever', 'and', 'chills', '.'], ['I', 'am', 'experiencing', 'high', 'body', 'temperatures', '.'], ['I', 'am', 'experiencing', 'shortness', 'of', 'breath', '.'], ['I', 'am', 'feeling', 'sick,', 'lost', 'my', 'sense', 'of', 'taste', 'and', 'smell', '.'], ['I', 'am', 'feverish', '.'], ['I', 'have', 'difficulty', 'to', 'breathe', '.'], ['I', 'am', 'getting', 'chills.'], ['I', 'am', 'having', 'some', 'temperature', '.'], ['I', 'am', 'having', 'trouble', 'breathing', '.'], ['I', 'am', 'not', 'feeling', 'well', '.'], ['I', 'am', 'sneezing', 'a', 'lot', '.'], ['I', 'am', 'suffering', 'from', 'a', 'fever', '.'], ['I', 'am', 'sweating', 'but', 'feeling', 'cold', 'and', 'have', 'chills', '.'], ['my', 'body', 'hurts', '.'], ['I', 'have', 'toothache', '.']]\n",
      "69\n"
     ]
    }
   ],
   "source": [
    "for story,question,answer in train_data:\n",
    "    train_story_text.append(story)\n",
    "    train_question_text.append(question)\n",
    "    train_answers.append(answer)\n",
    "train_question_text;\n",
    "print(len(train_answers))\n",
    "print(train_story_text)\n",
    "print(len(train_question_text))"
   ]
  },
  {
   "cell_type": "code",
   "execution_count": 14,
   "id": "bd668759",
   "metadata": {
    "colab": {
     "base_uri": "https://localhost:8080/"
    },
    "id": "bd668759",
    "outputId": "f3d2045b-8188-4140-a52f-469196c75f04"
   },
   "outputs": [
    {
     "data": {
      "text/plain": [
       "69"
      ]
     },
     "execution_count": 14,
     "metadata": {},
     "output_type": "execute_result"
    }
   ],
   "source": [
    "train_story_sequence = tokenizer.texts_to_sequences(train_story_text)\n",
    "len(train_story_sequence)"
   ]
  },
  {
   "cell_type": "code",
   "execution_count": 15,
   "id": "d3540b93",
   "metadata": {
    "id": "d3540b93"
   },
   "outputs": [],
   "source": [
    "def vectorize_stories(data,word_index=tokenizer.word_index,max_story_len=max_story_len,max_question_len=max_question_len):\n",
    "   #stories = X\n",
    "   #questions = Xq\n",
    "   #answer = Y\n",
    "    X = []\n",
    "    Xq = []\n",
    "    Y = []\n",
    "    \n",
    "    for story,question,answer in data:\n",
    "        x = [word_index[word.lower()] for word in story]\n",
    "        xq = [word_index[word.lower()] for word in question]\n",
    "        y = np.zeros(vocab_sze)\n",
    "        y[word_index[answer]] = 1\n",
    "        \n",
    "        X.append(x)\n",
    "        Xq.append(xq)\n",
    "        Y.append(y)\n",
    "        \n",
    "    return (pad_sequences(X,maxlen=max_story_len), pad_sequences(Xq,maxlen=max_question_len),np.array(Y))\n"
   ]
  },
  {
   "cell_type": "code",
   "execution_count": 16,
   "id": "64f7d327",
   "metadata": {
    "colab": {
     "base_uri": "https://localhost:8080/"
    },
    "id": "64f7d327",
    "outputId": "88cf2770-27b1-4b9e-d83f-a55ce1e0a23d"
   },
   "outputs": [
    {
     "name": "stdout",
     "output_type": "stream",
     "text": [
      "(69, 121)\n",
      "(69, 23)\n",
      "(69, 23)\n"
     ]
    }
   ],
   "source": [
    "input_train, questions_train, answers_train = vectorize_stories(train_data)\n",
    "input_test, questions_test, answers_test = vectorize_stories(test_data)\n",
    "print(answers_train.shape)\n",
    "print(input_train.shape)\n",
    "print(questions_train.shape)"
   ]
  },
  {
   "cell_type": "code",
   "execution_count": 17,
   "id": "34a87143",
   "metadata": {
    "colab": {
     "base_uri": "https://localhost:8080/"
    },
    "id": "34a87143",
    "outputId": "81c356aa-bd63-4bd8-e96e-dc4d539c8825"
   },
   "outputs": [
    {
     "data": {
      "text/plain": [
       "34"
      ]
     },
     "execution_count": 17,
     "metadata": {},
     "output_type": "execute_result"
    }
   ],
   "source": [
    "tokenizer.word_index[\"no\"];\n",
    "tokenizer.word_index[\"yes\"]"
   ]
  },
  {
   "cell_type": "markdown",
   "id": "b4b07fca",
   "metadata": {
    "id": "b4b07fca"
   },
   "source": [
    "NETWORK"
   ]
  },
  {
   "cell_type": "code",
   "execution_count": 18,
   "id": "4d047aa6",
   "metadata": {
    "id": "4d047aa6"
   },
   "outputs": [],
   "source": [
    "from keras.models import Sequential,Model\n",
    "from keras.layers.embeddings import Embedding\n",
    "from keras.layers import Input,Activation,Dense,Permute, Dropout, add, dot, concatenate, LSTM"
   ]
  },
  {
   "cell_type": "code",
   "execution_count": 19,
   "id": "7d2ac54e",
   "metadata": {
    "colab": {
     "base_uri": "https://localhost:8080/"
    },
    "id": "7d2ac54e",
    "outputId": "18bdb7e3-fb08-4700-ed63-beddf5cec032"
   },
   "outputs": [
    {
     "name": "stdout",
     "output_type": "stream",
     "text": [
      "KerasTensor(type_spec=TensorSpec(shape=(None, 23), dtype=tf.float32, name='input_2'), name='input_2', description=\"created by layer 'input_2'\")\n",
      "KerasTensor(type_spec=TensorSpec(shape=(None, 23), dtype=tf.float32, name='input_1'), name='input_1', description=\"created by layer 'input_1'\")\n"
     ]
    }
   ],
   "source": [
    "input_sequence = Input((max_story_len,))\n",
    "question = Input((max_question_len,))\n",
    "print(question)\n",
    "print(input_sequence)"
   ]
  },
  {
   "cell_type": "code",
   "execution_count": 20,
   "id": "1733d41e",
   "metadata": {
    "id": "1733d41e"
   },
   "outputs": [],
   "source": [
    "vocab_size = vocab_sze"
   ]
  },
  {
   "cell_type": "markdown",
   "id": "77025570",
   "metadata": {
    "id": "77025570"
   },
   "source": [
    "Input Encoder M"
   ]
  },
  {
   "cell_type": "code",
   "execution_count": 21,
   "id": "77873c16",
   "metadata": {
    "id": "77873c16"
   },
   "outputs": [],
   "source": [
    "input_encoder_m = Sequential()\n",
    "input_encoder_m.add(Embedding(input_dim=vocab_size,output_dim=64))\n",
    "input_encoder_m.add(Dropout(0.25)) #randomly turn neurons during training\n",
    "\n",
    "# output => (samples,story_maxlen,embedding_dim)"
   ]
  },
  {
   "cell_type": "code",
   "execution_count": 22,
   "id": "9a991a8a",
   "metadata": {
    "id": "9a991a8a"
   },
   "outputs": [],
   "source": [
    "input_encoder_c = Sequential()\n",
    "input_encoder_c.add(Embedding(input_dim=vocab_size,output_dim=max_question_len))\n",
    "input_encoder_c.add(Dropout(0.25))\n",
    "\n",
    "# output => (samples,story_maxlen,max_question_len)"
   ]
  },
  {
   "cell_type": "code",
   "execution_count": 23,
   "id": "21a2d70a",
   "metadata": {
    "id": "21a2d70a"
   },
   "outputs": [],
   "source": [
    "question_encoder = Sequential()\n",
    "question_encoder.add(Embedding(input_dim=vocab_size,output_dim=64, input_length=max_question_len))\n",
    "question_encoder.add(Dropout(0.25)) \n",
    "\n",
    "# output => (samples,question_maxlen,max_question_len)"
   ]
  },
  {
   "cell_type": "code",
   "execution_count": 24,
   "id": "1d7987c3",
   "metadata": {
    "id": "1d7987c3"
   },
   "outputs": [],
   "source": [
    "input_encoded_m = input_encoder_m(input_sequence)\n",
    "input_encoded_c = input_encoder_c(input_sequence)\n",
    "question_encoded = question_encoder(question)"
   ]
  },
  {
   "cell_type": "code",
   "execution_count": 25,
   "id": "173e760c",
   "metadata": {
    "colab": {
     "base_uri": "https://localhost:8080/"
    },
    "id": "173e760c",
    "outputId": "f08e9ad5-b73d-424a-97a5-b137e43fc734"
   },
   "outputs": [
    {
     "name": "stdout",
     "output_type": "stream",
     "text": [
      "KerasTensor(type_spec=TensorSpec(shape=(None, 23, 23), dtype=tf.float32, name=None), name='activation/Softmax:0', description=\"created by layer 'activation'\")\n"
     ]
    }
   ],
   "source": [
    "match = dot([input_encoded_m,question_encoded],axes=(2,2))\n",
    "match = Activation('softmax')(match)\n",
    "print(match)"
   ]
  },
  {
   "cell_type": "code",
   "execution_count": 26,
   "id": "3d081232",
   "metadata": {
    "id": "3d081232"
   },
   "outputs": [],
   "source": [
    "response = add([match,input_encoded_c])\n",
    "response = Permute((2,1))(response)"
   ]
  },
  {
   "cell_type": "code",
   "execution_count": 27,
   "id": "f5e5ed14",
   "metadata": {
    "colab": {
     "base_uri": "https://localhost:8080/"
    },
    "id": "f5e5ed14",
    "outputId": "57c60d19-9481-47fb-c231-f2362f1a6e25"
   },
   "outputs": [
    {
     "data": {
      "text/plain": [
       "<KerasTensor: shape=(None, 23, 87) dtype=float32 (created by layer 'concatenate')>"
      ]
     },
     "execution_count": 27,
     "metadata": {},
     "output_type": "execute_result"
    }
   ],
   "source": [
    "answer = concatenate([response, question_encoded])\n",
    "answer"
   ]
  },
  {
   "cell_type": "code",
   "execution_count": 28,
   "id": "d1f99ba8",
   "metadata": {
    "id": "d1f99ba8"
   },
   "outputs": [],
   "source": [
    "answer = LSTM(32)(answer)"
   ]
  },
  {
   "cell_type": "code",
   "execution_count": 29,
   "id": "12c9fbdc",
   "metadata": {
    "colab": {
     "base_uri": "https://localhost:8080/"
    },
    "id": "12c9fbdc",
    "outputId": "1f7c7297-8924-4cb5-83d3-1f9d7d0dce70"
   },
   "outputs": [
    {
     "name": "stdout",
     "output_type": "stream",
     "text": [
      "KerasTensor(type_spec=TensorSpec(shape=(None, 121), dtype=tf.float32, name=None), name='dense/BiasAdd:0', description=\"created by layer 'dense'\")\n",
      "121\n"
     ]
    }
   ],
   "source": [
    "answer = Dropout(0.5)(answer)\n",
    "answer = Dense(vocab_size)(answer)\n",
    "print(answer)\n",
    "print(vocab_size)"
   ]
  },
  {
   "cell_type": "code",
   "execution_count": 30,
   "id": "0d9cd14a",
   "metadata": {
    "id": "0d9cd14a"
   },
   "outputs": [],
   "source": [
    "answer = Activation('softmax')(answer)"
   ]
  },
  {
   "cell_type": "code",
   "execution_count": 31,
   "id": "3df0710a",
   "metadata": {
    "id": "3df0710a"
   },
   "outputs": [],
   "source": [
    "model = Model([input_sequence,question],answer)"
   ]
  },
  {
   "cell_type": "code",
   "execution_count": 32,
   "id": "7115b94e",
   "metadata": {
    "id": "7115b94e"
   },
   "outputs": [],
   "source": [
    "model.compile(optimizer='rmsprop',loss=\"categorical_crossentropy\", metrics=[\"accuracy\"])"
   ]
  },
  {
   "cell_type": "code",
   "execution_count": 33,
   "id": "d006ba21",
   "metadata": {
    "colab": {
     "base_uri": "https://localhost:8080/"
    },
    "id": "d006ba21",
    "outputId": "25335e80-4e05-493b-ea17-0b21cae80be8"
   },
   "outputs": [
    {
     "name": "stdout",
     "output_type": "stream",
     "text": [
      "Model: \"model\"\n",
      "__________________________________________________________________________________________________\n",
      "Layer (type)                    Output Shape         Param #     Connected to                     \n",
      "==================================================================================================\n",
      "input_1 (InputLayer)            [(None, 23)]         0                                            \n",
      "__________________________________________________________________________________________________\n",
      "input_2 (InputLayer)            [(None, 23)]         0                                            \n",
      "__________________________________________________________________________________________________\n",
      "sequential (Sequential)         (None, None, 64)     7744        input_1[0][0]                    \n",
      "__________________________________________________________________________________________________\n",
      "sequential_2 (Sequential)       (None, 23, 64)       7744        input_2[0][0]                    \n",
      "__________________________________________________________________________________________________\n",
      "dot (Dot)                       (None, 23, 23)       0           sequential[0][0]                 \n",
      "                                                                 sequential_2[0][0]               \n",
      "__________________________________________________________________________________________________\n",
      "activation (Activation)         (None, 23, 23)       0           dot[0][0]                        \n",
      "__________________________________________________________________________________________________\n",
      "sequential_1 (Sequential)       (None, None, 23)     2783        input_1[0][0]                    \n",
      "__________________________________________________________________________________________________\n",
      "add (Add)                       (None, 23, 23)       0           activation[0][0]                 \n",
      "                                                                 sequential_1[0][0]               \n",
      "__________________________________________________________________________________________________\n",
      "permute (Permute)               (None, 23, 23)       0           add[0][0]                        \n",
      "__________________________________________________________________________________________________\n",
      "concatenate (Concatenate)       (None, 23, 87)       0           permute[0][0]                    \n",
      "                                                                 sequential_2[0][0]               \n",
      "__________________________________________________________________________________________________\n",
      "lstm (LSTM)                     (None, 32)           15360       concatenate[0][0]                \n",
      "__________________________________________________________________________________________________\n",
      "dropout_3 (Dropout)             (None, 32)           0           lstm[0][0]                       \n",
      "__________________________________________________________________________________________________\n",
      "dense (Dense)                   (None, 121)          3993        dropout_3[0][0]                  \n",
      "__________________________________________________________________________________________________\n",
      "activation_1 (Activation)       (None, 121)          0           dense[0][0]                      \n",
      "==================================================================================================\n",
      "Total params: 37,624\n",
      "Trainable params: 37,624\n",
      "Non-trainable params: 0\n",
      "__________________________________________________________________________________________________\n"
     ]
    }
   ],
   "source": [
    "model.summary()"
   ]
  },
  {
   "cell_type": "code",
   "execution_count": 34,
   "id": "b8faa903",
   "metadata": {
    "colab": {
     "base_uri": "https://localhost:8080/",
     "height": 1000
    },
    "id": "b8faa903",
    "outputId": "7f222d3e-4047-4d9f-8452-b9e094f2b67c",
    "scrolled": true
   },
   "outputs": [
    {
     "name": "stdout",
     "output_type": "stream",
     "text": [
      "Epoch 1/120\n",
      "6/6 [==============================] - 5s 203ms/step - loss: 4.6850 - accuracy: 0.3333 - val_loss: 4.4530 - val_accuracy: 0.1034\n",
      "Epoch 2/120\n",
      "6/6 [==============================] - 0s 26ms/step - loss: 3.9610 - accuracy: 0.5652 - val_loss: 3.2067 - val_accuracy: 0.1034\n",
      "Epoch 3/120\n",
      "6/6 [==============================] - 0s 25ms/step - loss: 2.9622 - accuracy: 0.4493 - val_loss: 2.5104 - val_accuracy: 0.1034\n",
      "Epoch 4/120\n",
      "6/6 [==============================] - 0s 23ms/step - loss: 2.4279 - accuracy: 0.4493 - val_loss: 2.0705 - val_accuracy: 0.1034\n",
      "Epoch 5/120\n",
      "6/6 [==============================] - 0s 27ms/step - loss: 2.0950 - accuracy: 0.5072 - val_loss: 1.7391 - val_accuracy: 0.1034\n",
      "Epoch 6/120\n",
      "6/6 [==============================] - 0s 25ms/step - loss: 1.7123 - accuracy: 0.4638 - val_loss: 1.4854 - val_accuracy: 0.1034\n",
      "Epoch 7/120\n",
      "6/6 [==============================] - 0s 24ms/step - loss: 1.5522 - accuracy: 0.5217 - val_loss: 1.2849 - val_accuracy: 0.1034\n",
      "Epoch 8/120\n",
      "6/6 [==============================] - 0s 25ms/step - loss: 1.3844 - accuracy: 0.4493 - val_loss: 1.1475 - val_accuracy: 0.1034\n",
      "Epoch 9/120\n",
      "6/6 [==============================] - 0s 25ms/step - loss: 1.1733 - accuracy: 0.4928 - val_loss: 1.0512 - val_accuracy: 0.1034\n",
      "Epoch 10/120\n",
      "6/6 [==============================] - 0s 22ms/step - loss: 1.2535 - accuracy: 0.4348 - val_loss: 0.9835 - val_accuracy: 0.1034\n",
      "Epoch 11/120\n",
      "6/6 [==============================] - 0s 29ms/step - loss: 0.9931 - accuracy: 0.5942 - val_loss: 0.9357 - val_accuracy: 0.1034\n",
      "Epoch 12/120\n",
      "6/6 [==============================] - 0s 24ms/step - loss: 1.0162 - accuracy: 0.4928 - val_loss: 0.8741 - val_accuracy: 0.1034\n",
      "Epoch 13/120\n",
      "6/6 [==============================] - 0s 26ms/step - loss: 0.9609 - accuracy: 0.5507 - val_loss: 0.8528 - val_accuracy: 0.1034\n",
      "Epoch 14/120\n",
      "6/6 [==============================] - 0s 23ms/step - loss: 1.0147 - accuracy: 0.3768 - val_loss: 0.8425 - val_accuracy: 0.1034\n",
      "Epoch 15/120\n",
      "6/6 [==============================] - 0s 26ms/step - loss: 0.8978 - accuracy: 0.5217 - val_loss: 0.8039 - val_accuracy: 0.1034\n",
      "Epoch 16/120\n",
      "6/6 [==============================] - 0s 27ms/step - loss: 0.9063 - accuracy: 0.4638 - val_loss: 0.7871 - val_accuracy: 0.1034\n",
      "Epoch 17/120\n",
      "6/6 [==============================] - 0s 27ms/step - loss: 0.9251 - accuracy: 0.4348 - val_loss: 0.7515 - val_accuracy: 0.1379\n",
      "Epoch 18/120\n",
      "6/6 [==============================] - 0s 26ms/step - loss: 0.9132 - accuracy: 0.4203 - val_loss: 0.7408 - val_accuracy: 0.2414\n",
      "Epoch 19/120\n",
      "6/6 [==============================] - 0s 28ms/step - loss: 0.8261 - accuracy: 0.4928 - val_loss: 0.7282 - val_accuracy: 0.8966\n",
      "Epoch 20/120\n",
      "6/6 [==============================] - 0s 24ms/step - loss: 0.8514 - accuracy: 0.4928 - val_loss: 0.7071 - val_accuracy: 0.8966\n",
      "Epoch 21/120\n",
      "6/6 [==============================] - 0s 26ms/step - loss: 0.7836 - accuracy: 0.4928 - val_loss: 0.7172 - val_accuracy: 0.8966\n",
      "Epoch 22/120\n",
      "6/6 [==============================] - 0s 22ms/step - loss: 0.8139 - accuracy: 0.4783 - val_loss: 0.7076 - val_accuracy: 0.8966\n",
      "Epoch 23/120\n",
      "6/6 [==============================] - 0s 23ms/step - loss: 0.8226 - accuracy: 0.5072 - val_loss: 0.7326 - val_accuracy: 0.1034\n",
      "Epoch 24/120\n",
      "6/6 [==============================] - 0s 24ms/step - loss: 0.8298 - accuracy: 0.4783 - val_loss: 0.7291 - val_accuracy: 0.1034\n",
      "Epoch 25/120\n",
      "6/6 [==============================] - 0s 23ms/step - loss: 0.7654 - accuracy: 0.5217 - val_loss: 0.6905 - val_accuracy: 0.8966\n",
      "Epoch 26/120\n",
      "6/6 [==============================] - 0s 27ms/step - loss: 0.7892 - accuracy: 0.4348 - val_loss: 0.6912 - val_accuracy: 0.8966\n",
      "Epoch 27/120\n",
      "6/6 [==============================] - 0s 16ms/step - loss: 0.8111 - accuracy: 0.4058 - val_loss: 0.6592 - val_accuracy: 0.8966\n",
      "Epoch 28/120\n",
      "6/6 [==============================] - 0s 12ms/step - loss: 0.8594 - accuracy: 0.4203 - val_loss: 0.6673 - val_accuracy: 0.8966\n",
      "Epoch 29/120\n",
      "6/6 [==============================] - 0s 11ms/step - loss: 0.7780 - accuracy: 0.5072 - val_loss: 0.6592 - val_accuracy: 0.8966\n",
      "Epoch 30/120\n",
      "6/6 [==============================] - 0s 11ms/step - loss: 0.7380 - accuracy: 0.5507 - val_loss: 0.6602 - val_accuracy: 0.8966\n",
      "Epoch 31/120\n",
      "6/6 [==============================] - 0s 12ms/step - loss: 0.7370 - accuracy: 0.5217 - val_loss: 0.6654 - val_accuracy: 0.8966\n",
      "Epoch 32/120\n",
      "6/6 [==============================] - 0s 13ms/step - loss: 0.7802 - accuracy: 0.4928 - val_loss: 0.5815 - val_accuracy: 0.8966\n",
      "Epoch 33/120\n",
      "6/6 [==============================] - 0s 12ms/step - loss: 0.7182 - accuracy: 0.5652 - val_loss: 0.6616 - val_accuracy: 0.8966\n",
      "Epoch 34/120\n",
      "6/6 [==============================] - 0s 11ms/step - loss: 0.7092 - accuracy: 0.4928 - val_loss: 0.6600 - val_accuracy: 0.8966\n",
      "Epoch 35/120\n",
      "6/6 [==============================] - 0s 11ms/step - loss: 0.7171 - accuracy: 0.6087 - val_loss: 0.6955 - val_accuracy: 0.4483\n",
      "Epoch 36/120\n",
      "6/6 [==============================] - 0s 11ms/step - loss: 0.7612 - accuracy: 0.4783 - val_loss: 0.6529 - val_accuracy: 0.5517\n",
      "Epoch 37/120\n",
      "6/6 [==============================] - 0s 12ms/step - loss: 0.7248 - accuracy: 0.4638 - val_loss: 0.6129 - val_accuracy: 0.8966\n",
      "Epoch 38/120\n",
      "6/6 [==============================] - 0s 13ms/step - loss: 0.7355 - accuracy: 0.5942 - val_loss: 0.6757 - val_accuracy: 0.4483\n",
      "Epoch 39/120\n",
      "6/6 [==============================] - 0s 12ms/step - loss: 0.6857 - accuracy: 0.5362 - val_loss: 0.7428 - val_accuracy: 0.4138\n",
      "Epoch 40/120\n",
      "6/6 [==============================] - 0s 11ms/step - loss: 0.6948 - accuracy: 0.5797 - val_loss: 0.5510 - val_accuracy: 0.8966\n",
      "Epoch 41/120\n",
      "6/6 [==============================] - 0s 13ms/step - loss: 0.7482 - accuracy: 0.4928 - val_loss: 0.6728 - val_accuracy: 0.4483\n",
      "Epoch 42/120\n",
      "6/6 [==============================] - 0s 13ms/step - loss: 0.7268 - accuracy: 0.4928 - val_loss: 0.7301 - val_accuracy: 0.4483\n",
      "Epoch 43/120\n",
      "6/6 [==============================] - 0s 11ms/step - loss: 0.6555 - accuracy: 0.6522 - val_loss: 0.6944 - val_accuracy: 0.4483\n",
      "Epoch 44/120\n",
      "6/6 [==============================] - 0s 11ms/step - loss: 0.6553 - accuracy: 0.6232 - val_loss: 0.6309 - val_accuracy: 0.5517\n",
      "Epoch 45/120\n",
      "6/6 [==============================] - 0s 13ms/step - loss: 0.7003 - accuracy: 0.5797 - val_loss: 0.7003 - val_accuracy: 0.4483\n",
      "Epoch 46/120\n",
      "6/6 [==============================] - 0s 13ms/step - loss: 0.6318 - accuracy: 0.6667 - val_loss: 0.6660 - val_accuracy: 0.4483\n",
      "Epoch 47/120\n",
      "6/6 [==============================] - 0s 11ms/step - loss: 0.6792 - accuracy: 0.5942 - val_loss: 0.6164 - val_accuracy: 0.5517\n",
      "Epoch 48/120\n",
      "6/6 [==============================] - 0s 11ms/step - loss: 0.6395 - accuracy: 0.7681 - val_loss: 0.6969 - val_accuracy: 0.5172\n",
      "Epoch 49/120\n",
      "6/6 [==============================] - 0s 11ms/step - loss: 0.6479 - accuracy: 0.6377 - val_loss: 0.6616 - val_accuracy: 0.5172\n",
      "Epoch 50/120\n",
      "6/6 [==============================] - 0s 14ms/step - loss: 0.6137 - accuracy: 0.6667 - val_loss: 0.7122 - val_accuracy: 0.5172\n",
      "Epoch 51/120\n",
      "6/6 [==============================] - 0s 13ms/step - loss: 0.6156 - accuracy: 0.6667 - val_loss: 0.8841 - val_accuracy: 0.2414\n",
      "Epoch 52/120\n",
      "6/6 [==============================] - 0s 11ms/step - loss: 0.7194 - accuracy: 0.5652 - val_loss: 0.8367 - val_accuracy: 0.3448\n",
      "Epoch 53/120\n",
      "6/6 [==============================] - 0s 11ms/step - loss: 0.5852 - accuracy: 0.7536 - val_loss: 0.6826 - val_accuracy: 0.5517\n",
      "Epoch 54/120\n",
      "6/6 [==============================] - 0s 11ms/step - loss: 0.6223 - accuracy: 0.7101 - val_loss: 0.6438 - val_accuracy: 0.6207\n",
      "Epoch 55/120\n",
      "6/6 [==============================] - 0s 11ms/step - loss: 0.5615 - accuracy: 0.7391 - val_loss: 0.8721 - val_accuracy: 0.3448\n",
      "Epoch 56/120\n",
      "6/6 [==============================] - 0s 11ms/step - loss: 0.4940 - accuracy: 0.8116 - val_loss: 0.7247 - val_accuracy: 0.5172\n",
      "Epoch 57/120\n",
      "6/6 [==============================] - 0s 11ms/step - loss: 0.5215 - accuracy: 0.7681 - val_loss: 0.8874 - val_accuracy: 0.3448\n",
      "Epoch 58/120\n",
      "6/6 [==============================] - 0s 12ms/step - loss: 0.5819 - accuracy: 0.7536 - val_loss: 0.9048 - val_accuracy: 0.3448\n",
      "Epoch 59/120\n"
     ]
    },
    {
     "name": "stdout",
     "output_type": "stream",
     "text": [
      "6/6 [==============================] - 0s 15ms/step - loss: 0.5393 - accuracy: 0.7681 - val_loss: 0.5223 - val_accuracy: 0.8276\n",
      "Epoch 60/120\n",
      "6/6 [==============================] - 0s 13ms/step - loss: 0.5675 - accuracy: 0.6812 - val_loss: 0.8243 - val_accuracy: 0.4138\n",
      "Epoch 61/120\n",
      "6/6 [==============================] - 0s 11ms/step - loss: 0.4982 - accuracy: 0.8551 - val_loss: 0.7950 - val_accuracy: 0.4483\n",
      "Epoch 62/120\n",
      "6/6 [==============================] - 0s 13ms/step - loss: 0.5002 - accuracy: 0.8116 - val_loss: 0.8268 - val_accuracy: 0.4483\n",
      "Epoch 63/120\n",
      "6/6 [==============================] - 0s 13ms/step - loss: 0.4409 - accuracy: 0.8841 - val_loss: 0.8800 - val_accuracy: 0.4138\n",
      "Epoch 64/120\n",
      "6/6 [==============================] - 0s 11ms/step - loss: 0.5773 - accuracy: 0.7681 - val_loss: 0.6964 - val_accuracy: 0.6552\n",
      "Epoch 65/120\n",
      "6/6 [==============================] - 0s 11ms/step - loss: 0.4765 - accuracy: 0.8261 - val_loss: 0.9889 - val_accuracy: 0.3793\n",
      "Epoch 66/120\n",
      "6/6 [==============================] - 0s 11ms/step - loss: 0.4909 - accuracy: 0.7826 - val_loss: 0.9918 - val_accuracy: 0.3793\n",
      "Epoch 67/120\n",
      "6/6 [==============================] - 0s 11ms/step - loss: 0.4442 - accuracy: 0.8116 - val_loss: 1.0955 - val_accuracy: 0.2759\n",
      "Epoch 68/120\n",
      "6/6 [==============================] - 0s 11ms/step - loss: 0.4641 - accuracy: 0.8406 - val_loss: 0.8115 - val_accuracy: 0.4483\n",
      "Epoch 69/120\n",
      "6/6 [==============================] - 0s 11ms/step - loss: 0.4687 - accuracy: 0.7971 - val_loss: 0.8081 - val_accuracy: 0.4828\n",
      "Epoch 70/120\n",
      "6/6 [==============================] - 0s 11ms/step - loss: 0.3733 - accuracy: 0.8986 - val_loss: 1.0724 - val_accuracy: 0.3448\n",
      "Epoch 71/120\n",
      "6/6 [==============================] - 0s 11ms/step - loss: 0.3958 - accuracy: 0.8261 - val_loss: 0.7052 - val_accuracy: 0.6207\n",
      "Epoch 72/120\n",
      "6/6 [==============================] - 0s 11ms/step - loss: 0.4510 - accuracy: 0.8551 - val_loss: 0.5036 - val_accuracy: 0.8276\n",
      "Epoch 73/120\n",
      "6/6 [==============================] - 0s 11ms/step - loss: 0.3926 - accuracy: 0.8696 - val_loss: 0.7101 - val_accuracy: 0.5517\n",
      "Epoch 74/120\n",
      "6/6 [==============================] - 0s 11ms/step - loss: 0.3424 - accuracy: 0.9130 - val_loss: 0.6078 - val_accuracy: 0.6552\n",
      "Epoch 75/120\n",
      "6/6 [==============================] - 0s 11ms/step - loss: 0.3758 - accuracy: 0.8261 - val_loss: 1.0640 - val_accuracy: 0.3793\n",
      "Epoch 76/120\n",
      "6/6 [==============================] - 0s 11ms/step - loss: 0.4510 - accuracy: 0.8406 - val_loss: 1.3226 - val_accuracy: 0.2759\n",
      "Epoch 77/120\n",
      "6/6 [==============================] - 0s 11ms/step - loss: 0.4116 - accuracy: 0.8696 - val_loss: 0.7590 - val_accuracy: 0.5172\n",
      "Epoch 78/120\n",
      "6/6 [==============================] - 0s 11ms/step - loss: 0.3418 - accuracy: 0.8986 - val_loss: 0.5645 - val_accuracy: 0.7586\n",
      "Epoch 79/120\n",
      "6/6 [==============================] - 0s 11ms/step - loss: 0.3262 - accuracy: 0.8841 - val_loss: 0.6367 - val_accuracy: 0.6552\n",
      "Epoch 80/120\n",
      "6/6 [==============================] - 0s 11ms/step - loss: 0.3263 - accuracy: 0.8841 - val_loss: 1.0530 - val_accuracy: 0.4138\n",
      "Epoch 81/120\n",
      "6/6 [==============================] - 0s 12ms/step - loss: 0.2686 - accuracy: 0.9130 - val_loss: 1.1912 - val_accuracy: 0.3793\n",
      "Epoch 82/120\n",
      "6/6 [==============================] - 0s 11ms/step - loss: 0.3929 - accuracy: 0.8551 - val_loss: 0.8308 - val_accuracy: 0.4138\n",
      "Epoch 83/120\n",
      "6/6 [==============================] - 0s 12ms/step - loss: 0.3159 - accuracy: 0.8986 - val_loss: 1.3147 - val_accuracy: 0.2759\n",
      "Epoch 84/120\n",
      "6/6 [==============================] - 0s 11ms/step - loss: 0.3298 - accuracy: 0.8986 - val_loss: 0.8067 - val_accuracy: 0.4138\n",
      "Epoch 85/120\n",
      "6/6 [==============================] - 0s 11ms/step - loss: 0.3261 - accuracy: 0.9130 - val_loss: 0.6663 - val_accuracy: 0.6552\n",
      "Epoch 86/120\n",
      "6/6 [==============================] - 0s 11ms/step - loss: 0.2574 - accuracy: 0.9275 - val_loss: 1.2564 - val_accuracy: 0.4138\n",
      "Epoch 87/120\n",
      "6/6 [==============================] - 0s 11ms/step - loss: 0.2159 - accuracy: 0.9565 - val_loss: 0.7693 - val_accuracy: 0.6207\n",
      "Epoch 88/120\n",
      "6/6 [==============================] - 0s 11ms/step - loss: 0.3271 - accuracy: 0.8406 - val_loss: 1.5642 - val_accuracy: 0.2414\n",
      "Epoch 89/120\n",
      "6/6 [==============================] - 0s 11ms/step - loss: 0.3004 - accuracy: 0.9275 - val_loss: 1.2016 - val_accuracy: 0.4138\n",
      "Epoch 90/120\n",
      "6/6 [==============================] - 0s 11ms/step - loss: 0.2523 - accuracy: 0.9275 - val_loss: 0.6430 - val_accuracy: 0.6897\n",
      "Epoch 91/120\n",
      "6/6 [==============================] - 0s 11ms/step - loss: 0.3224 - accuracy: 0.8986 - val_loss: 1.2540 - val_accuracy: 0.4138\n",
      "Epoch 92/120\n",
      "6/6 [==============================] - 0s 11ms/step - loss: 0.2388 - accuracy: 0.9420 - val_loss: 0.6890 - val_accuracy: 0.6897\n",
      "Epoch 93/120\n",
      "6/6 [==============================] - 0s 11ms/step - loss: 0.2675 - accuracy: 0.8841 - val_loss: 0.9472 - val_accuracy: 0.5172\n",
      "Epoch 94/120\n",
      "6/6 [==============================] - 0s 11ms/step - loss: 0.3006 - accuracy: 0.8986 - val_loss: 0.9635 - val_accuracy: 0.4483\n",
      "Epoch 95/120\n",
      "6/6 [==============================] - 0s 11ms/step - loss: 0.2738 - accuracy: 0.9130 - val_loss: 0.5388 - val_accuracy: 0.7241\n",
      "Epoch 96/120\n",
      "6/6 [==============================] - 0s 11ms/step - loss: 0.3329 - accuracy: 0.8841 - val_loss: 0.7776 - val_accuracy: 0.5862\n",
      "Epoch 97/120\n",
      "6/6 [==============================] - 0s 11ms/step - loss: 0.2155 - accuracy: 0.9420 - val_loss: 1.3473 - val_accuracy: 0.4138\n",
      "Epoch 98/120\n",
      "6/6 [==============================] - 0s 11ms/step - loss: 0.1947 - accuracy: 0.9565 - val_loss: 1.1799 - val_accuracy: 0.5517\n",
      "Epoch 99/120\n",
      "6/6 [==============================] - 0s 11ms/step - loss: 0.2502 - accuracy: 0.9420 - val_loss: 0.7503 - val_accuracy: 0.6552\n",
      "Epoch 100/120\n",
      "6/6 [==============================] - 0s 11ms/step - loss: 0.1723 - accuracy: 0.9275 - val_loss: 1.5537 - val_accuracy: 0.4138\n",
      "Epoch 101/120\n",
      "6/6 [==============================] - 0s 11ms/step - loss: 0.2526 - accuracy: 0.8986 - val_loss: 1.0332 - val_accuracy: 0.5862\n",
      "Epoch 102/120\n",
      "6/6 [==============================] - 0s 11ms/step - loss: 0.2117 - accuracy: 0.9710 - val_loss: 1.1697 - val_accuracy: 0.5517\n",
      "Epoch 103/120\n",
      "6/6 [==============================] - 0s 11ms/step - loss: 0.2000 - accuracy: 0.9275 - val_loss: 1.4327 - val_accuracy: 0.4138\n",
      "Epoch 104/120\n",
      "6/6 [==============================] - 0s 11ms/step - loss: 0.1651 - accuracy: 0.9565 - val_loss: 1.4734 - val_accuracy: 0.4483\n",
      "Epoch 105/120\n",
      "6/6 [==============================] - 0s 11ms/step - loss: 0.1994 - accuracy: 0.9275 - val_loss: 0.9981 - val_accuracy: 0.5862\n",
      "Epoch 106/120\n",
      "6/6 [==============================] - 0s 11ms/step - loss: 0.2066 - accuracy: 0.9710 - val_loss: 1.9659 - val_accuracy: 0.3103\n",
      "Epoch 107/120\n",
      "6/6 [==============================] - 0s 11ms/step - loss: 0.1950 - accuracy: 0.9710 - val_loss: 1.3790 - val_accuracy: 0.5172\n",
      "Epoch 108/120\n",
      "6/6 [==============================] - 0s 11ms/step - loss: 0.1280 - accuracy: 0.9710 - val_loss: 1.9762 - val_accuracy: 0.3793\n",
      "Epoch 109/120\n",
      "6/6 [==============================] - 0s 11ms/step - loss: 0.1979 - accuracy: 0.9565 - val_loss: 1.6565 - val_accuracy: 0.4138\n",
      "Epoch 110/120\n",
      "6/6 [==============================] - 0s 11ms/step - loss: 0.2032 - accuracy: 0.9275 - val_loss: 1.8953 - val_accuracy: 0.2759\n",
      "Epoch 111/120\n",
      "6/6 [==============================] - 0s 11ms/step - loss: 0.1703 - accuracy: 0.9565 - val_loss: 1.3845 - val_accuracy: 0.5172\n",
      "Epoch 112/120\n",
      "6/6 [==============================] - 0s 11ms/step - loss: 0.1275 - accuracy: 0.9565 - val_loss: 1.6480 - val_accuracy: 0.4138\n",
      "Epoch 113/120\n",
      "6/6 [==============================] - 0s 11ms/step - loss: 0.1367 - accuracy: 0.9710 - val_loss: 1.5345 - val_accuracy: 0.5172\n",
      "Epoch 114/120\n",
      "6/6 [==============================] - 0s 11ms/step - loss: 0.1643 - accuracy: 0.9710 - val_loss: 0.9303 - val_accuracy: 0.5862\n",
      "Epoch 115/120\n",
      "6/6 [==============================] - 0s 11ms/step - loss: 0.1485 - accuracy: 0.9565 - val_loss: 1.2092 - val_accuracy: 0.5517\n",
      "Epoch 116/120\n",
      "6/6 [==============================] - 0s 11ms/step - loss: 0.1536 - accuracy: 0.9565 - val_loss: 1.6606 - val_accuracy: 0.5172\n",
      "Epoch 117/120\n"
     ]
    },
    {
     "name": "stdout",
     "output_type": "stream",
     "text": [
      "6/6 [==============================] - 0s 11ms/step - loss: 0.1600 - accuracy: 0.9420 - val_loss: 1.0078 - val_accuracy: 0.5862\n",
      "Epoch 118/120\n",
      "6/6 [==============================] - 0s 11ms/step - loss: 0.0997 - accuracy: 0.9855 - val_loss: 1.4424 - val_accuracy: 0.5517\n",
      "Epoch 119/120\n",
      "6/6 [==============================] - 0s 11ms/step - loss: 0.1177 - accuracy: 0.9855 - val_loss: 1.0262 - val_accuracy: 0.6552\n",
      "Epoch 120/120\n",
      "6/6 [==============================] - 0s 11ms/step - loss: 0.1503 - accuracy: 0.9565 - val_loss: 1.4544 - val_accuracy: 0.5172\n"
     ]
    }
   ],
   "source": [
    "#history = model.fit([input_train, questions_train], answers_train,batch_size=12,epochs=120,validation_data=([input_test, questions_test], answers_test))\n",
    "history = model.fit([input_train, questions_train], answers_train,batch_size=12,epochs=120,validation_data=([input_test, questions_test], answers_test));\n"
   ]
  },
  {
   "cell_type": "code",
   "execution_count": 35,
   "id": "a13e3c75",
   "metadata": {
    "id": "a13e3c75"
   },
   "outputs": [
    {
     "name": "stdout",
     "output_type": "stream",
     "text": [
      "dict_keys(['loss', 'accuracy', 'val_loss', 'val_accuracy'])\n"
     ]
    },
    {
     "data": {
      "image/png": "[encoded data removed]",
      "text/plain": [
       "<Figure size 432x288 with 1 Axes>"
      ]
     },
     "metadata": {
      "needs_background": "light"
     },
     "output_type": "display_data"
    }
   ],
   "source": [
    "import matplotlib.pyplot as plt\n",
    "%matplotlib inline\n",
    "print(history.history.keys())\n",
    "# summarize history for accuracy\n",
    "plt.plot(history.history['val_accuracy'])\n",
    "plt.plot(history.history['accuracy'])\n",
    "plt.title('model accuracy')\n",
    "plt.ylabel('accuracy')\n",
    "plt.xlabel('epoch')\n",
    "plt.legend(['train', 'test'], loc='upper left')\n",
    "plt.show()"
   ]
  },
  {
   "cell_type": "code",
   "execution_count": 39,
   "id": "bb014602",
   "metadata": {},
   "outputs": [],
   "source": [
    "model.save(\"mmRoshani_covid_model.h5\")"
   ]
  },
  {
   "cell_type": "code",
   "execution_count": 40,
   "id": "b6440fe2",
   "metadata": {
    "id": "b6440fe2"
   },
   "outputs": [],
   "source": [
    "model.load_weights(\"mmRoshani_covid_model.h5\")"
   ]
  },
  {
   "cell_type": "code",
   "execution_count": 44,
   "id": "57404930",
   "metadata": {},
   "outputs": [
    {
     "data": {
      "text/plain": [
       "(29, 121)"
      ]
     },
     "execution_count": 44,
     "metadata": {},
     "output_type": "execute_result"
    }
   ],
   "source": [
    "pred_results = model.predict(([input_test,questions_test]))\n",
    "pred_results.shape"
   ]
  },
  {
   "cell_type": "code",
   "execution_count": 70,
   "id": "de558bc2",
   "metadata": {},
   "outputs": [
    {
     "data": {
      "text/plain": [
       "['I',\n",
       " 'am',\n",
       " 'cold',\n",
       " 'sweating',\n",
       " '.',\n",
       " 'I',\n",
       " 'am',\n",
       " 'feeling',\n",
       " 'sick,',\n",
       " 'lost',\n",
       " 'my',\n",
       " 'sense',\n",
       " 'of',\n",
       " 'taste',\n",
       " 'and',\n",
       " 'smell',\n",
       " '.']"
      ]
     },
     "execution_count": 70,
     "metadata": {},
     "output_type": "execute_result"
    }
   ],
   "source": [
    "test_data[25][0]"
   ]
  },
  {
   "cell_type": "code",
   "execution_count": 71,
   "id": "bdba7cd7",
   "metadata": {},
   "outputs": [
    {
     "data": {
      "text/plain": [
       "['Do',\n",
       " 'you',\n",
       " 'think',\n",
       " 'I',\n",
       " 'have',\n",
       " 'the',\n",
       " 'Corona',\n",
       " 'virus',\n",
       " 'because',\n",
       " 'I',\n",
       " 'have',\n",
       " 'cold',\n",
       " 'sweating',\n",
       " 'and',\n",
       " 'feel',\n",
       " 'sick',\n",
       " 'and',\n",
       " 'no',\n",
       " 'taste',\n",
       " 'and',\n",
       " 'smell',\n",
       " '?']"
      ]
     },
     "execution_count": 71,
     "metadata": {},
     "output_type": "execute_result"
    }
   ],
   "source": [
    "test_data[25][1]"
   ]
  },
  {
   "cell_type": "code",
   "execution_count": 72,
   "id": "38b4c718",
   "metadata": {},
   "outputs": [
    {
     "data": {
      "text/plain": [
       "'yes'"
      ]
     },
     "execution_count": 72,
     "metadata": {},
     "output_type": "execute_result"
    }
   ],
   "source": [
    "test_data[1][2]"
   ]
  },
  {
   "cell_type": "code",
   "execution_count": 59,
   "id": "eb21a8dc",
   "metadata": {},
   "outputs": [
    {
     "data": {
      "text/plain": [
       "array([3.1577383e-07, 3.4946311e-07, 4.0363904e-07, 2.9530105e-07,\n",
       "       2.4754402e-07, 2.5569412e-07, 4.3662726e-07, 3.8779402e-07,\n",
       "       5.2004935e-07, 8.2283327e-07, 3.4513062e-07, 5.2283661e-07,\n",
       "       4.6830095e-07, 5.0230005e-07, 4.0676372e-07, 4.8863393e-07,\n",
       "       4.0273505e-07, 6.1748261e-07, 2.5467781e-07, 5.9650347e-07,\n",
       "       5.6332783e-07, 3.4161988e-07, 7.3538246e-07, 9.4837880e-01,\n",
       "       5.2236868e-07, 2.3970742e-07, 5.5424948e-07, 4.5764082e-07,\n",
       "       5.5561168e-07, 6.2510162e-07, 3.1074660e-07, 6.1000190e-07,\n",
       "       3.8668981e-07, 3.0884098e-07, 5.1569160e-02, 4.0562520e-07,\n",
       "       3.9611555e-07, 4.2427021e-07, 4.2645019e-07, 4.4443379e-07,\n",
       "       3.7484480e-07, 3.6931502e-07, 3.3865376e-07, 2.7029972e-07,\n",
       "       5.3684619e-07, 4.5555507e-07, 5.8840135e-07, 2.3697960e-07,\n",
       "       4.8901006e-07, 4.9858699e-07, 3.0430843e-07, 2.7081836e-07,\n",
       "       2.9937237e-07, 4.4230444e-07, 3.0163693e-07, 5.4240201e-07,\n",
       "       4.5519329e-07, 9.0547150e-07, 6.1306253e-07, 4.7053166e-07,\n",
       "       3.6243165e-07, 4.6344445e-07, 4.3928154e-07, 3.5410719e-07,\n",
       "       4.7460804e-07, 4.8647365e-07, 5.4671506e-07, 5.9410314e-07,\n",
       "       2.6192055e-07, 4.4754890e-07, 5.0276202e-07, 1.9247902e-07,\n",
       "       4.5405739e-07, 3.9001043e-07, 5.0395539e-07, 6.7381467e-07,\n",
       "       6.1511753e-07, 3.6577831e-07, 3.5512039e-07, 4.9854231e-07,\n",
       "       5.1608401e-07, 3.5083855e-07, 2.7874864e-07, 2.8273274e-07,\n",
       "       4.6902991e-07, 4.3907337e-07, 4.0587167e-07, 6.0179678e-07,\n",
       "       3.5623873e-07, 3.3020274e-07, 4.1448189e-07, 4.7498662e-07,\n",
       "       5.6338206e-07, 3.8862183e-07, 5.0608566e-07, 2.5870790e-07,\n",
       "       4.0642246e-07, 5.5311529e-07, 2.8909710e-07, 3.3043932e-07,\n",
       "       5.9028531e-07, 4.6111978e-07, 6.0154832e-07, 4.9802622e-07,\n",
       "       3.5372813e-07, 2.4702686e-07, 4.7135853e-07, 3.7570049e-07,\n",
       "       3.0573727e-07, 5.5707181e-07, 3.4018029e-07, 7.8764509e-07,\n",
       "       2.7241089e-07, 1.8825295e-07, 3.1544846e-07, 5.4111865e-07,\n",
       "       5.8075767e-07, 3.3975039e-07, 4.0743925e-07, 5.4125081e-07,\n",
       "       4.4444482e-07], dtype=float32)"
      ]
     },
     "execution_count": 59,
     "metadata": {},
     "output_type": "execute_result"
    }
   ],
   "source": [
    "pred_results[1]"
   ]
  },
  {
   "cell_type": "code",
   "execution_count": 73,
   "id": "4e2736de",
   "metadata": {},
   "outputs": [],
   "source": [
    "val_max = np.argmax(pred_results[25])"
   ]
  },
  {
   "cell_type": "code",
   "execution_count": 74,
   "id": "d029a550",
   "metadata": {},
   "outputs": [
    {
     "data": {
      "text/plain": [
       "'yes'"
      ]
     },
     "execution_count": 74,
     "metadata": {},
     "output_type": "execute_result"
    }
   ],
   "source": [
    "for key, val in tokenizer.word_index.items():\n",
    "    if val == val_max:\n",
    "        k = key\n",
    "        \n",
    "k"
   ]
  },
  {
   "cell_type": "markdown",
   "id": "67ee718b",
   "metadata": {},
   "source": [
    "How Sure i am?"
   ]
  },
  {
   "cell_type": "code",
   "execution_count": 85,
   "id": "3a86bf38",
   "metadata": {},
   "outputs": [
    {
     "data": {
      "text/plain": [
       "0.05156916"
      ]
     },
     "execution_count": 85,
     "metadata": {},
     "output_type": "execute_result"
    }
   ],
   "source": [
    "pred_results[1][val_max]"
   ]
  },
  {
   "cell_type": "markdown",
   "id": "d0556df2",
   "metadata": {},
   "source": [
    "Total words in vocan to make our own question"
   ]
  },
  {
   "cell_type": "code",
   "execution_count": 87,
   "id": "6484269a",
   "metadata": {},
   "outputs": [
    {
     "data": {
      "text/plain": [
       "{'.',\n",
       " '?',\n",
       " 'Can',\n",
       " 'Corona',\n",
       " 'Could',\n",
       " 'Do',\n",
       " 'Does',\n",
       " 'I',\n",
       " 'a',\n",
       " 'ache',\n",
       " 'aches',\n",
       " 'all',\n",
       " 'alot',\n",
       " 'always',\n",
       " 'am',\n",
       " 'and',\n",
       " 'any',\n",
       " 'anyone',\n",
       " 'anything',\n",
       " 'are',\n",
       " 'because',\n",
       " 'bed',\n",
       " 'bed.',\n",
       " 'body',\n",
       " 'breath',\n",
       " 'breathe',\n",
       " 'breathe,',\n",
       " 'breathing',\n",
       " 'but',\n",
       " \"can't\",\n",
       " 'cannot',\n",
       " 'caugh',\n",
       " 'cause',\n",
       " 'chills',\n",
       " 'chills.',\n",
       " 'cold',\n",
       " 'corona',\n",
       " 'coronavirus',\n",
       " 'cough',\n",
       " 'coughing',\n",
       " 'difficulty',\n",
       " 'dizzy',\n",
       " 'dizzy.',\n",
       " 'do',\n",
       " \"don't\",\n",
       " 'dry',\n",
       " 'except',\n",
       " 'experiencing',\n",
       " 'feel',\n",
       " 'feeling',\n",
       " 'fever',\n",
       " 'feverish',\n",
       " 'finding',\n",
       " 'fine,',\n",
       " 'food',\n",
       " 'from',\n",
       " 'get',\n",
       " 'getting',\n",
       " 'hard',\n",
       " 'has',\n",
       " 'have',\n",
       " 'having',\n",
       " 'high',\n",
       " 'hurts',\n",
       " 'iam',\n",
       " 'if',\n",
       " 'in',\n",
       " 'infected',\n",
       " 'is',\n",
       " 'it',\n",
       " 'linked',\n",
       " 'lost',\n",
       " 'lot',\n",
       " 'me',\n",
       " 'mean',\n",
       " 'my',\n",
       " 'no',\n",
       " 'not',\n",
       " 'of',\n",
       " 'one',\n",
       " 'out',\n",
       " 'over',\n",
       " 'phlegm.',\n",
       " 'problem',\n",
       " 'sense',\n",
       " 'shortness',\n",
       " 'sick',\n",
       " 'sick,',\n",
       " 'signs',\n",
       " 'slight',\n",
       " 'smell',\n",
       " 'sneesing',\n",
       " 'sneez',\n",
       " 'sneezing',\n",
       " 'sneezing,',\n",
       " 'some',\n",
       " 'stop',\n",
       " 'suffering',\n",
       " 'sweating',\n",
       " 'symptom',\n",
       " 'symptoms',\n",
       " 'taste',\n",
       " 'tell',\n",
       " 'temperature',\n",
       " 'temperatures',\n",
       " 'that',\n",
       " 'the',\n",
       " 'they',\n",
       " 'things',\n",
       " 'think',\n",
       " 'tired',\n",
       " 'to',\n",
       " 'toothache',\n",
       " 'trouble',\n",
       " 'up',\n",
       " 'virus',\n",
       " 'well',\n",
       " 'who',\n",
       " 'without',\n",
       " 'wondering',\n",
       " 'yes',\n",
       " 'you'}"
      ]
     },
     "execution_count": 87,
     "metadata": {},
     "output_type": "execute_result"
    }
   ],
   "source": [
    "vocab"
   ]
  },
  {
   "cell_type": "code",
   "execution_count": 154,
   "id": "e499a1f1",
   "metadata": {},
   "outputs": [
    {
     "data": {
      "text/plain": [
       "['Do', 'you', 'think', 'I', 'have', 'the', 'Corona', 'virus', '?']"
      ]
     },
     "execution_count": 154,
     "metadata": {},
     "output_type": "execute_result"
    }
   ],
   "source": [
    "#our_story = \"my symptoms are high fever and sneezing .\"\n",
    "our_story = \"I have difficulty to breathe and fever and aches . I am dizzy .\"\n",
    "#our_story = \"I am dizzy .\"\n",
    "\n",
    "#our_question = \"Do you think I have the Corona virus because I have high fever and sneez ?\"\n",
    "our_question = \"Do you think I have the Corona virus ?\"\n",
    "#our_question = \"I am finding that i am dizzy is it Corona virus ?\"\n",
    "our_question.split()"
   ]
  },
  {
   "cell_type": "code",
   "execution_count": 155,
   "id": "2779d220",
   "metadata": {},
   "outputs": [],
   "source": [
    "our_data = [(our_story.split(),our_question.split(),\"yes\")]"
   ]
  },
  {
   "cell_type": "code",
   "execution_count": 156,
   "id": "3bdf5f2f",
   "metadata": {},
   "outputs": [],
   "source": [
    "our_story, our_ques, our_ans = vectorize_stories(our_data)"
   ]
  },
  {
   "cell_type": "code",
   "execution_count": 157,
   "id": "5f5cb6d5",
   "metadata": {},
   "outputs": [],
   "source": [
    "pred_results = model.predict(([our_story,our_ques]))"
   ]
  },
  {
   "cell_type": "code",
   "execution_count": 158,
   "id": "488659f6",
   "metadata": {},
   "outputs": [
    {
     "name": "stdout",
     "output_type": "stream",
     "text": [
      "yes\n"
     ]
    },
    {
     "data": {
      "text/plain": [
       "0.89037097"
      ]
     },
     "execution_count": 158,
     "metadata": {},
     "output_type": "execute_result"
    }
   ],
   "source": [
    "val_max = np.argmax(pred_results[0])\n",
    "\n",
    "for key, val in tokenizer.word_index.items():\n",
    "    if val == val_max:\n",
    "        k = key\n",
    "        \n",
    "print(k)\n",
    "pred_results[0][val_max]"
   ]
  },
  {
   "cell_type": "code",
   "execution_count": 152,
   "id": "9052fa57",
   "metadata": {},
   "outputs": [
    {
     "data": {
      "text/plain": [
       "[(['I', 'cannot', 'taste', 'anything', '.'],\n",
       "  ['Do', 'I', 'have', 'corona', 'virus', '?'],\n",
       "  'yes'),\n",
       " (['I', \"can't\", 'breathe', '.'],\n",
       "  ['Do', 'I', 'have', 'corona', 'virus', '?'],\n",
       "  'yes'),\n",
       " (['I', \"can't\", 'get', 'out', 'of', 'bed', '.'],\n",
       "  ['Do', 'I', 'have', 'corona', 'virus', '?'],\n",
       "  'no'),\n",
       " (['I', \"can't\", 'smell', 'anything'],\n",
       "  ['Do', 'I', 'have', 'corona', 'virus', '?'],\n",
       "  'yes'),\n",
       " (['I', \"can't\", 'smell', 'things'],\n",
       "  ['Do', 'I', 'have', 'corona', 'virus', '?'],\n",
       "  'yes'),\n",
       " (['I', \"can't\", 'stop', 'coughing'],\n",
       "  ['Do', 'I', 'have', 'corona', 'virus', '?'],\n",
       "  'yes'),\n",
       " (['I', \"can't\", 'taste', 'anything'],\n",
       "  ['Do', 'I', 'have', 'corona', 'virus', '?'],\n",
       "  'yes'),\n",
       " (['I', 'cough', 'up', 'phlegm.'],\n",
       "  ['Do', 'I', 'have', 'corona', 'virus', '?'],\n",
       "  'yes'),\n",
       " (['I', \"don't\", 'feel', 'any', 'taste', 'in', 'the', 'food'],\n",
       "  ['Do', 'I', 'have', 'corona', 'virus', '?'],\n",
       "  'yes'),\n",
       " (['I', 'feel', 'dizzy.'], ['Do', 'I', 'have', 'corona', 'virus', '?'], 'no'),\n",
       " (['I', 'feel', 'fine,', 'except', 'I', 'have', 'a', 'slight', 'cough', '.'],\n",
       "  ['Do', 'I', 'have', 'corona', 'virus', '?'],\n",
       "  'no'),\n",
       " (['I', 'ache', 'all', 'over', '.', 'I', 'am', 'always', 'tired', '.'],\n",
       "  ['Do', 'I', 'have', 'corona', 'virus', '?'],\n",
       "  'yes'),\n",
       " (['I',\n",
       "   'am',\n",
       "   'coughing',\n",
       "   'a',\n",
       "   'lot',\n",
       "   '.',\n",
       "   'I',\n",
       "   'am',\n",
       "   'experiencing',\n",
       "   'shortness',\n",
       "   'of',\n",
       "   'breath',\n",
       "   '.'],\n",
       "  ['Do', 'I', 'have', 'corona', 'virus', '?'],\n",
       "  'yes'),\n",
       " (['I', \"can't\", 'get', 'out', 'of', 'bed.'],\n",
       "  ['Do', 'I', 'have', 'corona', 'virus', '?'],\n",
       "  'yes'),\n",
       " (['I',\n",
       "   'am',\n",
       "   'cold',\n",
       "   'sweating',\n",
       "   '.',\n",
       "   'I',\n",
       "   'am',\n",
       "   'feverish',\n",
       "   '.',\n",
       "   'I',\n",
       "   'feel',\n",
       "   'dizzy',\n",
       "   '.'],\n",
       "  ['Do', 'I', 'have', 'corona', 'virus', '?'],\n",
       "  'yes'),\n",
       " (['I',\n",
       "   \"can't\",\n",
       "   'get',\n",
       "   'out',\n",
       "   'of',\n",
       "   'bed',\n",
       "   '.',\n",
       "   'I',\n",
       "   'cannot',\n",
       "   'taste',\n",
       "   'anything',\n",
       "   '.'],\n",
       "  ['Do', 'I', 'have', 'corona', 'virus', '?'],\n",
       "  'yes'),\n",
       " (['I',\n",
       "   'am',\n",
       "   'cold',\n",
       "   'sweating',\n",
       "   '.',\n",
       "   'I',\n",
       "   'am',\n",
       "   'feeling',\n",
       "   'sick,',\n",
       "   'lost',\n",
       "   'my',\n",
       "   'sense',\n",
       "   'of',\n",
       "   'taste',\n",
       "   'and',\n",
       "   'smell',\n",
       "   '.'],\n",
       "  ['Do', 'I', 'have', 'corona', 'virus', '?'],\n",
       "  'yes'),\n",
       " (['I',\n",
       "   'am',\n",
       "   'experiencing',\n",
       "   'shortness',\n",
       "   'of',\n",
       "   'breath',\n",
       "   '.',\n",
       "   'I',\n",
       "   'am',\n",
       "   'always',\n",
       "   'tired',\n",
       "   '.'],\n",
       "  ['Do', 'I', 'have', 'corona', 'virus', '?'],\n",
       "  'yes'),\n",
       " (['I',\n",
       "   'have',\n",
       "   'breathe',\n",
       "   'problem',\n",
       "   '.',\n",
       "   'I',\n",
       "   'have',\n",
       "   'sneez',\n",
       "   '.',\n",
       "   'I',\n",
       "   \"don't\",\n",
       "   'feel',\n",
       "   'any',\n",
       "   'taste',\n",
       "   'in',\n",
       "   'the',\n",
       "   'food'],\n",
       "  ['Do', 'I', 'have', 'corona', 'virus', '?'],\n",
       "  'yes'),\n",
       " (['iam',\n",
       "   'sneezing',\n",
       "   '.',\n",
       "   'I',\n",
       "   'have',\n",
       "   'fever',\n",
       "   '.',\n",
       "   'I',\n",
       "   \"can't\",\n",
       "   'get',\n",
       "   'out',\n",
       "   'of',\n",
       "   'bed.'],\n",
       "  ['Do',\n",
       "   'you',\n",
       "   'think',\n",
       "   'I',\n",
       "   'have',\n",
       "   'the',\n",
       "   'Corona',\n",
       "   'virus',\n",
       "   'because',\n",
       "   'I',\n",
       "   'have',\n",
       "   'sneez',\n",
       "   'and',\n",
       "   'fever',\n",
       "   'and',\n",
       "   \"can't\",\n",
       "   'get',\n",
       "   'out',\n",
       "   'the',\n",
       "   'bed',\n",
       "   '?'],\n",
       "  'yes'),\n",
       " (['iam',\n",
       "   'sneezing',\n",
       "   '.',\n",
       "   'I',\n",
       "   'have',\n",
       "   'fever',\n",
       "   '.',\n",
       "   'I',\n",
       "   \"can't\",\n",
       "   'get',\n",
       "   'out',\n",
       "   'of',\n",
       "   'bed.'],\n",
       "  ['Can',\n",
       "   'you',\n",
       "   'tell',\n",
       "   'me',\n",
       "   'if',\n",
       "   'my',\n",
       "   'fever',\n",
       "   'and',\n",
       "   'sneezing',\n",
       "   'and',\n",
       "   \"can't\",\n",
       "   'get',\n",
       "   'out',\n",
       "   'the',\n",
       "   'bed',\n",
       "   'are',\n",
       "   'signs',\n",
       "   'of',\n",
       "   'corona',\n",
       "   'virus',\n",
       "   '?'],\n",
       "  'yes'),\n",
       " (['I',\n",
       "   'am',\n",
       "   'coughing',\n",
       "   'a',\n",
       "   'lot',\n",
       "   '.',\n",
       "   'I',\n",
       "   'am',\n",
       "   'experiencing',\n",
       "   'shortness',\n",
       "   'of',\n",
       "   'breath',\n",
       "   '.'],\n",
       "  ['Do',\n",
       "   'you',\n",
       "   'think',\n",
       "   'I',\n",
       "   'have',\n",
       "   'the',\n",
       "   'Corona',\n",
       "   'virus',\n",
       "   'because',\n",
       "   'I',\n",
       "   'have',\n",
       "   'shortness',\n",
       "   'of',\n",
       "   'breath',\n",
       "   'and',\n",
       "   'coughing',\n",
       "   'a',\n",
       "   'lot',\n",
       "   '?'],\n",
       "  'yes'),\n",
       " (['I',\n",
       "   'am',\n",
       "   'coughing',\n",
       "   'a',\n",
       "   'lot',\n",
       "   '.',\n",
       "   'I',\n",
       "   'am',\n",
       "   'experiencing',\n",
       "   'shortness',\n",
       "   'of',\n",
       "   'breath',\n",
       "   '.'],\n",
       "  ['Can',\n",
       "   'you',\n",
       "   'tell',\n",
       "   'me',\n",
       "   'if',\n",
       "   'my',\n",
       "   'shortness',\n",
       "   'of',\n",
       "   'breath',\n",
       "   'and',\n",
       "   'coughing',\n",
       "   'alot',\n",
       "   'are',\n",
       "   'signs',\n",
       "   'of',\n",
       "   'corona',\n",
       "   'virus',\n",
       "   '?'],\n",
       "  'yes'),\n",
       " (['I',\n",
       "   'am',\n",
       "   'cold',\n",
       "   'sweating',\n",
       "   '.',\n",
       "   'I',\n",
       "   'am',\n",
       "   'feverish',\n",
       "   '.',\n",
       "   'I',\n",
       "   'feel',\n",
       "   'dizzy',\n",
       "   '.'],\n",
       "  ['Do',\n",
       "   'you',\n",
       "   'think',\n",
       "   'I',\n",
       "   'have',\n",
       "   'the',\n",
       "   'Corona',\n",
       "   'virus',\n",
       "   'because',\n",
       "   'I',\n",
       "   'have',\n",
       "   'cold',\n",
       "   'sweating',\n",
       "   'and',\n",
       "   'feverish',\n",
       "   'and',\n",
       "   'feel',\n",
       "   'dizzy',\n",
       "   '?'],\n",
       "  'yes'),\n",
       " (['I',\n",
       "   'am',\n",
       "   'cold',\n",
       "   'sweating',\n",
       "   '.',\n",
       "   'I',\n",
       "   'am',\n",
       "   'feverish',\n",
       "   '.',\n",
       "   'I',\n",
       "   'feel',\n",
       "   'dizzy',\n",
       "   '.'],\n",
       "  ['Can',\n",
       "   'you',\n",
       "   'tell',\n",
       "   'me',\n",
       "   'if',\n",
       "   'my',\n",
       "   'cold',\n",
       "   'sweating',\n",
       "   'and',\n",
       "   'feverish',\n",
       "   'and',\n",
       "   'feel',\n",
       "   'dizzy',\n",
       "   'are',\n",
       "   'signs',\n",
       "   'of',\n",
       "   'corona',\n",
       "   'virus',\n",
       "   '?'],\n",
       "  'yes'),\n",
       " (['I',\n",
       "   'am',\n",
       "   'cold',\n",
       "   'sweating',\n",
       "   '.',\n",
       "   'I',\n",
       "   'am',\n",
       "   'feeling',\n",
       "   'sick,',\n",
       "   'lost',\n",
       "   'my',\n",
       "   'sense',\n",
       "   'of',\n",
       "   'taste',\n",
       "   'and',\n",
       "   'smell',\n",
       "   '.'],\n",
       "  ['Do',\n",
       "   'you',\n",
       "   'think',\n",
       "   'I',\n",
       "   'have',\n",
       "   'the',\n",
       "   'Corona',\n",
       "   'virus',\n",
       "   'because',\n",
       "   'I',\n",
       "   'have',\n",
       "   'cold',\n",
       "   'sweating',\n",
       "   'and',\n",
       "   'feel',\n",
       "   'sick',\n",
       "   'and',\n",
       "   'no',\n",
       "   'taste',\n",
       "   'and',\n",
       "   'smell',\n",
       "   '?'],\n",
       "  'yes'),\n",
       " (['I',\n",
       "   'am',\n",
       "   'cold',\n",
       "   'sweating',\n",
       "   '.',\n",
       "   'I',\n",
       "   'am',\n",
       "   'feeling',\n",
       "   'sick,',\n",
       "   'lost',\n",
       "   'my',\n",
       "   'sense',\n",
       "   'of',\n",
       "   'taste',\n",
       "   'and',\n",
       "   'smell',\n",
       "   '.'],\n",
       "  ['Can',\n",
       "   'you',\n",
       "   'tell',\n",
       "   'me',\n",
       "   'if',\n",
       "   'my',\n",
       "   'cold',\n",
       "   'sweating',\n",
       "   'and',\n",
       "   'feeling',\n",
       "   'sick',\n",
       "   'and',\n",
       "   'taste',\n",
       "   'and',\n",
       "   'smell',\n",
       "   'lost',\n",
       "   'are',\n",
       "   'signs',\n",
       "   'of',\n",
       "   'corona',\n",
       "   'virus',\n",
       "   '?'],\n",
       "  'yes'),\n",
       " (['I',\n",
       "   'am',\n",
       "   'experiencing',\n",
       "   'shortness',\n",
       "   'of',\n",
       "   'breath',\n",
       "   '.',\n",
       "   'I',\n",
       "   'am',\n",
       "   'always',\n",
       "   'tired',\n",
       "   '.'],\n",
       "  ['Do',\n",
       "   'you',\n",
       "   'think',\n",
       "   'I',\n",
       "   'have',\n",
       "   'the',\n",
       "   'Corona',\n",
       "   'virus',\n",
       "   'because',\n",
       "   'I',\n",
       "   'have',\n",
       "   'shortness',\n",
       "   'of',\n",
       "   'breath',\n",
       "   'and',\n",
       "   'feel',\n",
       "   'tired',\n",
       "   '?'],\n",
       "  'yes'),\n",
       " (['I',\n",
       "   'am',\n",
       "   'experiencing',\n",
       "   'shortness',\n",
       "   'of',\n",
       "   'breath',\n",
       "   '.',\n",
       "   'I',\n",
       "   'am',\n",
       "   'always',\n",
       "   'tired',\n",
       "   '.'],\n",
       "  ['Can',\n",
       "   'you',\n",
       "   'tell',\n",
       "   'me',\n",
       "   'if',\n",
       "   'my',\n",
       "   'shortness',\n",
       "   'of',\n",
       "   'breath',\n",
       "   'and',\n",
       "   'feeling',\n",
       "   'tired',\n",
       "   'are',\n",
       "   'signs',\n",
       "   'of',\n",
       "   'corona',\n",
       "   'virus',\n",
       "   '?'],\n",
       "  'yes')]"
      ]
     },
     "execution_count": 152,
     "metadata": {},
     "output_type": "execute_result"
    }
   ],
   "source": []
  }
 ],
 "metadata": {
  "colab": {
   "name": "chBot.ipynb",
   "provenance": []
  },
  "kernelspec": {
   "display_name": "Python 3",
   "language": "python",
   "name": "python3"
  },
  "language_info": {
   "codemirror_mode": {
    "name": "ipython",
    "version": 3
   },
   "file_extension": ".py",
   "mimetype": "text/x-python",
   "name": "python",
   "nbconvert_exporter": "python",
   "pygments_lexer": "ipython3",
   "version": "3.8.8"
  }
 },
 "nbformat": 4,
 "nbformat_minor": 5
}
